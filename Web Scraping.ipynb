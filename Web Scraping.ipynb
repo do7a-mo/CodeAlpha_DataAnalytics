{
 "cells": [
  {
   "cell_type": "code",
   "execution_count": 1,
   "id": "6466e400-e26e-49de-b83c-a65cf2b104b5",
   "metadata": {},
   "outputs": [],
   "source": [
    "import requests\n",
    "from bs4 import BeautifulSoup\n",
    "import pandas as pd\n"
   ]
  },
  {
   "cell_type": "code",
   "execution_count": 18,
   "id": "a720d9c6-d5e2-4af7-879a-33de40b335f8",
   "metadata": {},
   "outputs": [
    {
     "name": "stdout",
     "output_type": "stream",
     "text": [
      "Status Code: 200\n"
     ]
    }
   ],
   "source": [
    "url = \"http://books.toscrape.com/catalogue/category/books_1/page-1.html\"\n",
    "response = requests.get(url)\n",
    "\n",
    "# Check status\n",
    "print(\"Status Code:\", response.status_code)\n",
    "soup = BeautifulSoup(response.text, 'html.parser')"
   ]
  },
  {
   "cell_type": "code",
   "execution_count": 5,
   "id": "fdaebab9-fba0-4336-b2a6-885612e99f67",
   "metadata": {},
   "outputs": [],
   "source": [
    "books = soup.find_all(\"article\", class_=\"product_pod\")\n",
    "\n",
    "titles = []\n",
    "prices = []\n",
    "availability = []\n",
    "\n",
    "for book in books:\n",
    "    title = book.h3.a['title']\n",
    "    price = book.find(\"p\", class_=\"price_color\").text.strip()\n",
    "    avail = book.find(\"p\", class_=\"instock availability\").text.strip()\n",
    "    \n",
    "    titles.append(title)\n",
    "    prices.append(price)\n",
    "    availability.append(avail)\n",
    "\n",
    "# Create DataFrame\n",
    "df = pd.DataFrame({\n",
    "    \"Title\": titles,\n",
    "    \"Price\": prices,\n",
    "    \"Availability\": availability\n",
    "})\n",
    "\n",
    "df.head()"
   ]
  },
  {
   "cell_type": "code",
   "execution_count": 7,
   "id": "ce38be66-c7d8-430f-b67a-71aa48d71c6e",
   "metadata": {},
   "outputs": [],
   "source": [
    "columns = [\"Product\", \"Rating\", \"ReviewTitle\", \"ReviewText\", \"ReviewDate\"]\n",
    "df = pd.DataFrame(columns=columns)\n"
   ]
  },
  {
   "cell_type": "code",
   "execution_count": 9,
   "id": "cc403a49-0d90-4feb-9062-c1b907c91239",
   "metadata": {},
   "outputs": [
    {
     "name": "stdout",
     "output_type": "stream",
     "text": [
      "Scraping B09G9FPHY6, page 1\n",
      "Scraping B09G9FPHY6, page 2\n",
      "Scraping B09G9FPHY6, page 3\n",
      "Scraping B07PGL2ZSL, page 1\n",
      "Scraping B07PGL2ZSL, page 2\n",
      "Scraping B07PGL2ZSL, page 3\n",
      "Scraping B0756CYWWD, page 1\n",
      "Scraping B0756CYWWD, page 2\n",
      "Scraping B0756CYWWD, page 3\n"
     ]
    }
   ],
   "source": [
    "for url in product_urls:\n",
    "    product_name = url.split(\"/\")[-1]\n",
    "    for page in range(1, 4):  # أول 3 صفحات مثال\n",
    "        full_url = f\"{url}/ref=cm_cr_getr_d_paging_btm_next_{page}?pageNumber={page}\"\n",
    "        print(f\"Scraping {product_name}, page {page}\")\n",
    "        resp = requests.get(full_url, headers=HEADERS)\n",
    "        soup = BeautifulSoup(resp.content, \"html.parser\")\n",
    "\n",
    "        reviews = soup.find_all(\"div\", {\"data-hook\": \"review\"})\n",
    "        for rev in reviews:\n",
    "            rating = rev.find(\"i\", {\"data-hook\": \"review-star-rating\"})\n",
    "            title = rev.find(\"a\", {\"data-hook\": \"review-title\"})\n",
    "            text = rev.find(\"span\", {\"data-hook\": \"review-body\"})\n",
    "            date = rev.find(\"span\", {\"data-hook\": \"review-date\"})\n",
    "            df = df.append({\n",
    "                \"Product\": product_name,\n",
    "                \"Rating\": rating.text.strip() if rating else None,\n",
    "                \"ReviewTitle\": title.text.strip() if title else None,\n",
    "                \"ReviewText\": text.text.strip() if text else None,\n",
    "                \"ReviewDate\": date.text.strip() if date else None\n",
    "            }, ignore_index=True)\n",
    "        \n",
    "        time.sleep(random.uniform(2, 5))"
   ]
  },
  {
   "cell_type": "code",
   "execution_count": 11,
   "id": "a5f7a027-cda7-4df8-9842-7e9142ccd22a",
   "metadata": {},
   "outputs": [
    {
     "data": {
      "text/html": [
       "<div>\n",
       "<style scoped>\n",
       "    .dataframe tbody tr th:only-of-type {\n",
       "        vertical-align: middle;\n",
       "    }\n",
       "\n",
       "    .dataframe tbody tr th {\n",
       "        vertical-align: top;\n",
       "    }\n",
       "\n",
       "    .dataframe thead th {\n",
       "        text-align: right;\n",
       "    }\n",
       "</style>\n",
       "<table border=\"1\" class=\"dataframe\">\n",
       "  <thead>\n",
       "    <tr style=\"text-align: right;\">\n",
       "      <th></th>\n",
       "      <th>Product</th>\n",
       "      <th>Rating</th>\n",
       "      <th>ReviewTitle</th>\n",
       "      <th>ReviewText</th>\n",
       "      <th>ReviewDate</th>\n",
       "    </tr>\n",
       "  </thead>\n",
       "  <tbody>\n",
       "  </tbody>\n",
       "</table>\n",
       "</div>"
      ],
      "text/plain": [
       "Empty DataFrame\n",
       "Columns: [Product, Rating, ReviewTitle, ReviewText, ReviewDate]\n",
       "Index: []"
      ]
     },
     "execution_count": 11,
     "metadata": {},
     "output_type": "execute_result"
    }
   ],
   "source": []
  },
  {
   "cell_type": "code",
   "execution_count": 14,
   "id": "d8c87e39-e605-441b-b1d1-a7c3d55ee642",
   "metadata": {},
   "outputs": [
    {
     "data": {
      "text/html": [
       "<div>\n",
       "<style scoped>\n",
       "    .dataframe tbody tr th:only-of-type {\n",
       "        vertical-align: middle;\n",
       "    }\n",
       "\n",
       "    .dataframe tbody tr th {\n",
       "        vertical-align: top;\n",
       "    }\n",
       "\n",
       "    .dataframe thead th {\n",
       "        text-align: right;\n",
       "    }\n",
       "</style>\n",
       "<table border=\"1\" class=\"dataframe\">\n",
       "  <thead>\n",
       "    <tr style=\"text-align: right;\">\n",
       "      <th></th>\n",
       "      <th>Product</th>\n",
       "      <th>Rating</th>\n",
       "      <th>ReviewTitle</th>\n",
       "      <th>ReviewText</th>\n",
       "      <th>ReviewDate</th>\n",
       "    </tr>\n",
       "  </thead>\n",
       "  <tbody>\n",
       "  </tbody>\n",
       "</table>\n",
       "</div>"
      ],
      "text/plain": [
       "Empty DataFrame\n",
       "Columns: [Product, Rating, ReviewTitle, ReviewText, ReviewDate]\n",
       "Index: []"
      ]
     },
     "execution_count": 14,
     "metadata": {},
     "output_type": "execute_result"
    }
   ],
   "source": [
    "df.to_csv(\"scraped_amazon_reviews.csv\", index=False)\n",
    "df.head()"
   ]
  },
  {
   "cell_type": "code",
   "execution_count": null,
   "id": "08b309a8-ef28-4544-a7f9-5e9222dadd39",
   "metadata": {},
   "outputs": [],
   "source": []
  }
 ],
 "metadata": {
  "kernelspec": {
   "display_name": "Python [conda env:base] *",
   "language": "python",
   "name": "conda-base-py"
  },
  "language_info": {
   "codemirror_mode": {
    "name": "ipython",
    "version": 3
   },
   "file_extension": ".py",
   "mimetype": "text/x-python",
   "name": "python",
   "nbconvert_exporter": "python",
   "pygments_lexer": "ipython3",
   "version": "3.12.7"
  }
 },
 "nbformat": 4,
 "nbformat_minor": 5
}
